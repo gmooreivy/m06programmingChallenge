{
 "cells": [
  {
   "cell_type": "code",
   "execution_count": 27,
   "id": "e680ba4e",
   "metadata": {},
   "outputs": [],
   "source": [
    "# 13.1\n",
    "import time\n",
    "\n",
    "fout = open('today.txt', 'w')\n",
    "fout.write(time.ctime(time.time()))\n",
    "fout.close()"
   ]
  },
  {
   "cell_type": "code",
   "execution_count": null,
   "id": "74537cb0",
   "metadata": {},
   "outputs": [
    {
     "name": "stdout",
     "output_type": "stream",
     "text": [
      "Tue Sep 30 11:24:56 2025\n"
     ]
    }
   ],
   "source": [
    "# 13.2\n",
    "fin = open('today.txt', 'r')\n",
    "today = fin.read()\n",
    "fin.close()\n",
    "print(today)"
   ]
  },
  {
   "cell_type": "code",
   "execution_count": null,
   "id": "fa96a5f6",
   "metadata": {},
   "outputs": [],
   "source": [
    "# 13.3\n",
    "\n",
    "today = today.split()\n",
    "print(today[0], today[1], today[2])\n",
    "  "
   ]
  }
 ],
 "metadata": {
  "kernelspec": {
   "display_name": "base",
   "language": "python",
   "name": "python3"
  },
  "language_info": {
   "codemirror_mode": {
    "name": "ipython",
    "version": 3
   },
   "file_extension": ".py",
   "mimetype": "text/x-python",
   "name": "python",
   "nbconvert_exporter": "python",
   "pygments_lexer": "ipython3",
   "version": "3.13.5"
  }
 },
 "nbformat": 4,
 "nbformat_minor": 5
}
