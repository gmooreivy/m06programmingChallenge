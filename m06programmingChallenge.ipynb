{
 "cells": [
  {
   "cell_type": "code",
   "execution_count": null,
   "id": "e680ba4e",
   "metadata": {},
   "outputs": [],
   "source": [
    "# 13.1\n",
    "import time\n",
    "\n",
    "with open('today.txt', 'w') as fout:\n",
    "    fout.write(time.ctime(time.time()))\n",
    "fout.close()"
   ]
  },
  {
   "cell_type": "code",
   "execution_count": 1,
   "id": "74537cb0",
   "metadata": {},
   "outputs": [
    {
     "name": "stdout",
     "output_type": "stream",
     "text": [
      "Tue Sep 30 11:24:56 2025\n",
      "{datetime.datetime(2025, 9, 30, 11, 24, 56)}\n"
     ]
    }
   ],
   "source": [
    "# 13.2\n",
    "fin = open('today.txt', 'r')\n",
    "today = fin.read()\n",
    "fin.close()\n",
    "print(today)\n",
    "\n",
    "# 13.3\n",
    "from datetime import datetime\n",
    "parsed_date = datetime.strptime(today.strip(), '%a %b %d %H:%M:%S %Y')\n",
    "print({parsed_date})"
   ]
  },
  {
   "cell_type": "code",
   "execution_count": null,
   "id": "eec181d2",
   "metadata": {},
   "outputs": [],
   "source": [
    "# For 15.1, see 15-1.py"
   ]
  }
 ],
 "metadata": {
  "kernelspec": {
   "display_name": "base",
   "language": "python",
   "name": "python3"
  },
  "language_info": {
   "codemirror_mode": {
    "name": "ipython",
    "version": 3
   },
   "file_extension": ".py",
   "mimetype": "text/x-python",
   "name": "python",
   "nbconvert_exporter": "python",
   "pygments_lexer": "ipython3",
   "version": "3.13.5"
  }
 },
 "nbformat": 4,
 "nbformat_minor": 5
}
